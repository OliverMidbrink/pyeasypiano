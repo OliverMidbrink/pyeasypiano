{
 "cells": [
  {
   "cell_type": "code",
   "execution_count": 8,
   "id": "27be500b-ea06-425e-adf1-9fded88a7ae7",
   "metadata": {},
   "outputs": [],
   "source": [
    "from piano_tools import play_note\n",
    "\n",
    "play_note(61)"
   ]
  },
  {
   "cell_type": "code",
   "execution_count": null,
   "id": "303151e4-4ef6-4a74-9884-f2cacb135bb9",
   "metadata": {},
   "outputs": [],
   "source": []
  }
 ],
 "metadata": {
  "kernelspec": {
   "display_name": "pyeasypiano",
   "language": "python",
   "name": "pyeasypiano"
  },
  "language_info": {
   "codemirror_mode": {
    "name": "ipython",
    "version": 3
   },
   "file_extension": ".py",
   "mimetype": "text/x-python",
   "name": "python",
   "nbconvert_exporter": "python",
   "pygments_lexer": "ipython3",
   "version": "3.10.4"
  }
 },
 "nbformat": 4,
 "nbformat_minor": 5
}
